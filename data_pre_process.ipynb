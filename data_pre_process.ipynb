{
 "cells": [
  {
   "cell_type": "code",
   "execution_count": 1,
   "metadata": {
    "collapsed": false
   },
   "outputs": [
    {
     "name": "stdout",
     "output_type": "stream",
     "text": [
      "[[ 0.         -1.22474487  1.33630621]\n",
      " [ 1.22474487  0.         -0.26726124]\n",
      " [-1.22474487  1.22474487 -1.06904497]]\n",
      "[ 0.  0.  0.]\n",
      "[ 1.  1.  1.]\n",
      "==============StandardScaler===============\n",
      "StandardScaler(copy=True, with_mean=True, with_std=True)\n",
      "[ 1.          0.          0.33333333]\n",
      "[ 0.81649658  0.81649658  1.24721913]\n",
      "[[ 0.         -1.22474487  1.33630621]\n",
      " [ 1.22474487  0.         -0.26726124]\n",
      " [-1.22474487  1.22474487 -1.06904497]]\n",
      "============区间缩放发===================\n",
      "[[ 0.5         0.          1.        ]\n",
      " [ 1.          0.5         0.33333333]\n",
      " [ 0.          1.          0.        ]]\n",
      "[[ 0.5 -1.   1. ]\n",
      " [ 1.   0.   0. ]\n",
      " [ 0.   1.  -0.5]]\n",
      "==============L2归一化 下面两种写法效果一样========================\n",
      "[[ 0.40824829 -0.40824829  0.81649658]\n",
      " [ 1.          0.          0.        ]\n",
      " [ 0.          0.70710678 -0.70710678]]\n",
      "[[ 0.40824829 -0.40824829  0.81649658]\n",
      " [ 1.          0.          0.        ]\n",
      " [ 0.          0.70710678 -0.70710678]]\n",
      "[[ 0.  0.  0.]\n",
      " [ 0.  0.  0.]\n",
      " [ 0.  0.  0.]]\n",
      "[[ 1.  0.  1.  0.  0.  0.  0.  0.  1.]\n",
      " [ 0.  1.  0.  1.  0.  1.  0.  0.  0.]\n",
      " [ 1.  0.  0.  0.  1.  0.  1.  0.  0.]\n",
      " [ 0.  1.  1.  0.  0.  0.  0.  1.  0.]]\n",
      "Imputer(axis=0, copy=True, missing_values='NaN', strategy='mean', verbose=0)\n",
      "[[ 3.          2.        ]\n",
      " [ 6.          3.66666667]\n",
      " [ 7.          6.        ]]\n"
     ]
    }
   ],
   "source": [
    "'''\n",
    "无量纲化使不同规格的数据转换到同一规格。常见的无量纲化方法有标准化和区间缩放法。标准化的前提是特征值服从正态分布，\n",
    "标准化后，其转换成标准正态分布。区间缩放法利用了边界值信息，将特征的取值区间缩放到某个特点的范围，例如[0, 1]等。\n",
    "\n",
    "1、标准化：\n",
    "数据的标准化是将数据按比例缩放，使之落入一个小的特定区间。在某些比较和评价的指标处理中经常会用到，去除数据的单位限制，将其转化为无量纲的纯数值，便于不同单位或量级的指标能够进行比较和加权。\n",
    "公式为：(X-mean)/std 计算时对每个属性/每列分别进行。\n",
    "将数据按属性（按列进行）减去其均值，并除以其方差(或者标准差)。得到结果是，对于每个属性（每列）来说所有数据都聚集在0附近，方差为1。\n",
    "'''\n",
    "from sklearn.datasets import load_iris\n",
    "import numpy as np\n",
    "X = np.array([[ 1., -1.,  2.],\n",
    "              [ 2.,  0.,  0.],\n",
    "              [ 0.,  1., -1.]])\n",
    "from sklearn import preprocessing\n",
    "'''\n",
    "假设特征值服从标准正态分布\n",
    "许多学习算法中目标函数的基础都是假设所有的特征都是零均值并且具有同一阶数上的方差(比如径向基函数、支持向量机以及L1L2正则化项等)。\n",
    "如果某个特征的方差比其他特征大几个数量级，那么它就会在学习算法中占据主导位置，导致学习器并不能像我们说期望的那样，从其他特征中学习。\n",
    "'''\n",
    "X_scaled = preprocessing.scale(X)\n",
    "print(X_scaled)\n",
    "print(X_scaled.mean(axis=0))\n",
    "print(X_scaled.std(axis=0))\n",
    "'''\n",
    "StandardScaler它使用 ``Transformer 接口在训练集上计算均值和标准差，以便于在后续的测试集上进行相同的缩放. 缩放类对象可以在新的数据上实现和训练集相同缩放操作\n",
    "'''\n",
    "scaler = preprocessing.StandardScaler().fit(X)\n",
    "print(\"==============StandardScaler===============\")\n",
    "print(scaler)\n",
    "print(scaler.mean_)                                     \n",
    "print(scaler.scale_)                                     \n",
    "print(scaler.transform(X))\n",
    "scaler.transform([[-1.,  1., 0.]])\n",
    "print(\"============区间缩放发===================\")\n",
    "'''\n",
    "另外一个可选的缩放操作是将特征缩放至给定的最小、最大值范围，经常是[0,1]。 或者也可以将每个特征的最大绝对值转换至单位大小。这两类操作可以分别通过使用:class:`MinMaxScaler`或者:class:`MaxAbsScaler`实现。\n",
    "如果:class:MinMaxScaler`被提供了一个精确的``feature_range=(min, max)`，完整的公式是:\n",
    "X_std = (X - X.min(axis=0)) / (X.max(axis=0) - X.min(axis=0))\n",
    "X_scaled = X_std / (max - min) + min\n",
    "'''\n",
    "min_max_scaler = preprocessing.MinMaxScaler()\n",
    "X_train_minmax = min_max_scaler.fit_transform(X)\n",
    "print(X_train_minmax)\n",
    "max_abs_scaler = preprocessing.MaxAbsScaler()\n",
    "X_train_maxabs = max_abs_scaler.fit_transform(X)\n",
    "print(X_train_maxabs)\n",
    "'''\n",
    "2、归一化\n",
    "归一化是依照特征矩阵的行处理数据，其目的在于样本向量在点乘运算或其他核函数计算相似性时，拥有统一的标准，也就是说都转化为“单位向量”\n",
    "该方法主要应用于文本分类和聚类中。例如，对于两个TF-IDF向量的l2-norm进行点积，就可以得到这两个向量的余弦相似性。\n",
    "'''\n",
    "print(\"==============L2归一化 下面两种写法效果一样========================\")\n",
    "X_normalized_l2 = preprocessing.normalize(X, norm='l2')\n",
    "print(X_normalized_l2)\n",
    "normalizer = preprocessing.Normalizer().fit(X)\n",
    "X_normalized = normalizer.transform(X)\n",
    "print(X_normalized)\n",
    "'''\n",
    "3、特征二值化\n",
    "对于某些定量特征，其包含的有效信息为区间划分，例如学习成绩，假若只关心“及格”或不“及格”，\n",
    "那么需要将定量的考分，转换成“1”和“0”表示及格和未及格。定量特征二值化的核心在于设定一个阈值，大于阈值的赋值为1，小于等于阈值的赋值为0\n",
    "'''\n",
    "from sklearn.preprocessing import Binarizer\n",
    "X = [[ 1., -1.,  2.],\n",
    "     [ 2.,  0.,  0.],\n",
    "     [ 0.,  1., -1.]]\n",
    "#默认大于0的变为1，小于等于0的变为0\n",
    "binarizer = Binarizer(threshold=2).fit(X)\n",
    "print(binarizer.transform(X))\n",
    "'''\n",
    "一个将分类特征转换成scikit-learn估计器可用特征的可选方法是使用one-of-K或者one-hot编码,\n",
    "OneHotEncoder是该方法的一个实现。该方法将每个类别特征的 m 可能值转换成m个二进制特征值，当然只有一个是激活值。\n",
    "'''\n",
    "from sklearn.preprocessing import OneHotEncoder\n",
    "print(OneHotEncoder().fit_transform([[0, 0, 3], [1, 1, 0], [0, 2, 1], [1, 0, 2]]).toarray())\n",
    "'''\n",
    "缺失值处理\n",
    "'''\n",
    "import numpy as np\n",
    "from sklearn.preprocessing import Imputer\n",
    "imp = Imputer(missing_values='NaN', strategy='mean', axis=0)\n",
    "a = imp.fit([[1, 2], [1, 3], [7, 6]])\n",
    "print(a)\n",
    "X = [[np.nan, 2], [6, np.nan], [7, 6]]\n",
    "print(a.transform(X))"
   ]
  },
  {
   "cell_type": "code",
   "execution_count": 62,
   "metadata": {
    "collapsed": false
   },
   "outputs": [
    {
     "name": "stdout",
     "output_type": "stream",
     "text": [
      "原始数据集中的前5个样本的特征：\n",
      "==========================\n",
      "[[ 5.1  3.5  1.4  0.2]\n",
      " [ 4.9  3.   1.4  0.2]\n",
      " [ 4.7  3.2  1.3  0.2]\n",
      " [ 4.6  3.1  1.5  0.2]\n",
      " [ 5.   3.6  1.4  0.2]]\n",
      "==========================\n",
      "利用方差选择法过滤后的前5个样本的特征：\n",
      "==========================\n",
      "[[ 1.4]\n",
      " [ 1.4]\n",
      " [ 1.3]\n",
      " [ 1.5]\n",
      " [ 1.4]]\n",
      "==========================\n",
      "利用相关系数法过滤后的前5个样本的特征：\n",
      "==========================\n",
      "[[ 1.4  0.2]\n",
      " [ 1.4  0.2]\n",
      " [ 1.3  0.2]\n",
      " [ 1.5  0.2]\n",
      " [ 1.4  0.2]]\n",
      "==========================\n",
      "利用卡方检验过滤后的前5个样本的特征：\n",
      "==========================\n",
      "[[ 1.4  0.2]\n",
      " [ 1.4  0.2]\n",
      " [ 1.3  0.2]\n",
      " [ 1.5  0.2]\n",
      " [ 1.4  0.2]]\n",
      "==========================\n"
     ]
    }
   ],
   "source": [
    "'''\n",
    "特征提取和特征选择\n",
    "通过真实数据集进行对比测试\n",
    "测试数据集：iris_data\n",
    "测试\n",
    "'''\n",
    "#导入数据集iris  \n",
    "from sklearn.datasets import load_iris   \n",
    "from numpy import vstack, array, nan\n",
    "#载入数据集  \n",
    "iris = load_iris()  \n",
    "print \"原始数据集中的前5个样本的特征：\"\n",
    "print \"==========================\"\n",
    "print(iris.data[0:5])\n",
    "print \"==========================\"\n",
    "from sklearn.feature_selection import VarianceThreshold\n",
    "'''\n",
    " 3.1.1 方差选择法\n",
    "返回值为特征选择后的数据，参数threshold为方差的阈值。\n",
    "使用方差选择法，先要计算各个特征的方差，然后根据阈值，选择方差大于阈值的特征\n",
    "'''\n",
    "print \"利用方差选择法过滤后的前5个样本的特征：\"\n",
    "print \"==========================\"\n",
    "print(VarianceThreshold(threshold=3).fit_transform(iris.data)[0:5])\n",
    "print \"==========================\"\n",
    "\n",
    "'''\n",
    "3.1.2 相关系数法\n",
    "使用相关系数法，先要计算各个特征对目标值的相关系数以及相关系数的P值。这里利用的皮尔逊相关系数\n",
    "第一个参数为计算评估特征是否好的函数，该函数输入特征矩阵和目标向量，输出二元组（评分，P值）的数组，数组第i项为第i个特征的评分和P值。在此定义为计算相关系数\n",
    "参数k为选择的特征个数\n",
    "'''\n",
    "from sklearn.feature_selection import SelectKBest\n",
    "from scipy.stats import pearsonr\n",
    "\n",
    "print \"利用相关系数法过滤后的前5个样本的特征：\"\n",
    "print \"==========================\"\n",
    "# print (SelectKBest(lambda X, Y: array(map(lambda x:pearsonr(x, Y), X.T)).T, k=2).fit(iris.data,iris.target)[0:5])\n",
    "# 定义函数\n",
    "def multivariate_pearsonr(X, y):\n",
    "    scores, pvalues = [], []\n",
    "    for column in range(X.shape[1]):\n",
    "        cur_score, cur_p = pearsonr(X[:,column], y)\n",
    "        scores.append(abs(cur_score))\n",
    "        pvalues.append(cur_p)\n",
    "    return (np.array(scores), np.array(pvalues))\n",
    "\n",
    "a = SelectKBest(score_func=multivariate_pearsonr, k=2)\n",
    "print a.fit_transform(iris.data,iris.target)[0:5] \n",
    "print \"==========================\"\n",
    "\n",
    "'''\n",
    "3.1.3 卡方检验\n",
    "'''\n",
    "from sklearn.feature_selection import SelectKBest\n",
    "from sklearn.feature_selection import chi2\n",
    "print \"利用卡方检验过滤后的前5个样本的特征：\"\n",
    "print \"==========================\"\n",
    "print(SelectKBest(chi2, k=2).fit_transform(iris.data, iris.target)[0:5])\n",
    "print \"==========================\"\n",
    "\n",
    "\n",
    "from sklearn.feature_selection import SelectKBest\n",
    "from minepy import MINE\n",
    "#由于MINE的设计不是函数式的，定义mic方法将其为函数式的，返回一个二元组，二元组的第2项设置成固定的P值0.5\n",
    "# def mic(x, y):\n",
    "#  m = MINE()\n",
    "#  m.compute_score(x, y)\n",
    "#  return (m.mic(), 0.5)\n",
    "\n",
    "# #选择K个最好的特征，返回特征选择后的数据\n",
    "# a = SelectKBest(lambda X, Y: array(map(lambda x:mic(x, Y), X.T)).T, k=2)\n",
    "# a.fit_transform(iris.data, iris.target)"
   ]
  },
  {
   "cell_type": "code",
   "execution_count": 6,
   "metadata": {
    "collapsed": false
   },
   "outputs": [
    {
     "data": {
      "text/plain": [
       "array([ 0.,  0.,  0.])"
      ]
     },
     "execution_count": 6,
     "metadata": {},
     "output_type": "execute_result"
    }
   ],
   "source": [
    "from sklearn import preprocessing\n",
    "from sklearn import datasets\n",
    "boston = datasets.load_boston()\n",
    "X, y = boston.data, boston.target\n",
    "my_minmax_scaler = preprocessing.MinMaxScaler()\n",
    "my_minmax_scaler.fit(X[:, :3])\n",
    "my_minmax_scaler.transform(X[:, :3]).min(axis=0)"
   ]
  },
  {
   "cell_type": "code",
   "execution_count": 8,
   "metadata": {
    "collapsed": false
   },
   "outputs": [
    {
     "data": {
      "text/plain": [
       "array([[  3.48255018e-04,   9.91865557e-01,   1.27289413e-01],\n",
       "       [  3.86277175e-03,   0.00000000e+00,   9.99992539e-01],\n",
       "       [  3.85994296e-03,   0.00000000e+00,   9.99992550e-01],\n",
       "       ..., \n",
       "       [  5.09297670e-03,   0.00000000e+00,   9.99987031e-01],\n",
       "       [  9.18569794e-03,   0.00000000e+00,   9.99957811e-01],\n",
       "       [  3.97398371e-03,   0.00000000e+00,   9.99992104e-01]])"
      ]
     },
     "execution_count": 8,
     "metadata": {},
     "output_type": "execute_result"
    }
   ],
   "source": [
    "normalized_X = preprocessing.normalize(X[:, :3])\n",
    "normalized_X"
   ]
  },
  {
   "cell_type": "code",
   "execution_count": 158,
   "metadata": {
    "collapsed": false
   },
   "outputs": [
    {
     "name": "stdout",
     "output_type": "stream",
     "text": [
      "[[ 1.  1.  0.]\n",
      " [ 3.  3.  0.]\n",
      " [ 1. -1.  0.]]\n",
      "[[False False  True]\n",
      " [False False  True]\n",
      " [False False  True]]\n",
      "[[  1.   1.  nan]\n",
      " [  3.   3.  nan]\n",
      " [  1.  -1.  nan]]\n"
     ]
    }
   ],
   "source": [
    "import numpy as np\n",
    "from numpy import *\n",
    "x=array([[1.0,1.0,0],[3.0,3.0,0],[1.0,-1.0,0]])\n",
    "print x\n",
    "#a = preprocessing.normalize(x[:, :3])\n",
    "#a\n",
    "my_scaler = preprocessing.StandardScaler()\n",
    "my_scaler.fit(x[:, :3])\n",
    "b = my_scaler.transform(x[:, :3])\n",
    "impute = preprocessing.Imputer(strategy='most_frequent')\n",
    "iris_X_prime = impute.fit_transform(x)\n",
    "masking_array = x.astype(bool)\n",
    "print masking_array == False\n",
    "x[masking_array == False] = np.nan\n",
    "print x"
   ]
  },
  {
   "cell_type": "code",
   "execution_count": 46,
   "metadata": {
    "collapsed": false
   },
   "outputs": [
    {
     "name": "stdout",
     "output_type": "stream",
     "text": [
      "  (0, 1)\t1.0\n"
     ]
    }
   ],
   "source": [
    "import scipy\n",
    "matrix = scipy.sparse.eye(1000)\n",
    "print matrix.getrow(1)\n",
    "# preprocessing.scale(matrix,with_mean=False)"
   ]
  },
  {
   "cell_type": "code",
   "execution_count": 110,
   "metadata": {
    "collapsed": false
   },
   "outputs": [
    {
     "name": "stdout",
     "output_type": "stream",
     "text": [
      "[[1 0 2]\n",
      " [0 0 3]\n",
      " [4 5 6]]\n",
      "[[1 0]]\n"
     ]
    }
   ],
   "source": [
    "import numpy as np\n",
    "from scipy import *\n",
    "from scipy.sparse import csr_matrix\n",
    "row = np.array([0, 0, 1, 2, 2, 2])\n",
    "col = np.array([0, 2, 2, 0, 1, 2])\n",
    "data = np.array([1, 2, 3, 4, 5, 6])\n",
    "a = csr_matrix((data, (row, col)), shape=(3, 3)).toarray()\n",
    "print a\n",
    "print a[:1,:-1]"
   ]
  },
  {
   "cell_type": "code",
   "execution_count": 86,
   "metadata": {
    "collapsed": false
   },
   "outputs": [
    {
     "name": "stdout",
     "output_type": "stream",
     "text": [
      "(150L, 3L)\n",
      "[[1 0 0]\n",
      " [1 0 0]\n",
      " [1 0 0]\n",
      " [1 0 0]\n",
      " [1 0 0]]\n",
      "[[ 1000 -1000 -1000]\n",
      " [ 1000 -1000 -1000]\n",
      " [ 1000 -1000 -1000]\n",
      " [ 1000 -1000 -1000]\n",
      " [ 1000 -1000 -1000]]\n"
     ]
    }
   ],
   "source": [
    "from sklearn import datasets\n",
    "import numpy as np\n",
    "iris = datasets.load_iris()\n",
    "X = iris.data\n",
    "y = iris.target\n",
    "#两种方式都可以转换因变量\n",
    "d = np.column_stack((X,y))\n",
    "from sklearn import preprocessing\n",
    "text_encoder = preprocessing.OneHotEncoder()\n",
    "new_y = text_encoder.fit_transform(d[:, -1:]).toarray()\n",
    "print new_y.shape\n",
    "#两种方式都可以转换因变量\n",
    "from sklearn.preprocessing import LabelBinarizer\n",
    "label_binarizer = LabelBinarizer()\n",
    "new_target = label_binarizer.fit_transform(y)\n",
    "print new_target[:5]\n",
    "label_binarizer = LabelBinarizer(neg_label=-1000, pos_label=1000)\n",
    "print label_binarizer.fit_transform(y)[:5]"
   ]
  },
  {
   "cell_type": "code",
   "execution_count": 74,
   "metadata": {
    "collapsed": false
   },
   "outputs": [
    {
     "data": {
      "text/plain": [
       "DesignMatrix with shape (150L, 3L)\n",
       "  C(species)[0]  C(species)[1]  C(species)[2]\n",
       "              1              0              0\n",
       "              1              0              0\n",
       "              1              0              0\n",
       "              1              0              0\n",
       "              1              0              0\n",
       "              1              0              0\n",
       "              1              0              0\n",
       "              1              0              0\n",
       "              1              0              0\n",
       "              1              0              0\n",
       "              1              0              0\n",
       "              1              0              0\n",
       "              1              0              0\n",
       "              1              0              0\n",
       "              1              0              0\n",
       "              1              0              0\n",
       "              1              0              0\n",
       "              1              0              0\n",
       "              1              0              0\n",
       "              1              0              0\n",
       "              1              0              0\n",
       "              1              0              0\n",
       "              1              0              0\n",
       "              1              0              0\n",
       "              1              0              0\n",
       "              1              0              0\n",
       "              1              0              0\n",
       "              1              0              0\n",
       "              1              0              0\n",
       "              1              0              0\n",
       "  [120 rows omitted]\n",
       "  Terms:\n",
       "    'C(species)' (columns 0:3)\n",
       "  (to view full data, use np.asarray(this_obj))"
      ]
     },
     "execution_count": 74,
     "metadata": {},
     "output_type": "execute_result"
    }
   ],
   "source": [
    "from scipy.sparse import coo\n",
    "spar = coo.coo_matrix(np.random.binomial(1, .25, 100))\n",
    "preprocessing.binarize(spar, threshold=1)\n",
    "import patsy\n",
    "patsy.dmatrix(\"0 + C(species)\", {'species': iris.target})"
   ]
  },
  {
   "cell_type": "code",
   "execution_count": 145,
   "metadata": {
    "collapsed": false,
    "scrolled": true
   },
   "outputs": [
    {
     "name": "stdout",
     "output_type": "stream",
     "text": [
      "[[1 1 1 1]\n",
      " [1 1 1 1]\n",
      " [1 1 1 1]\n",
      " [1 1 1 1]\n",
      " [1 1 1 1]]\n",
      "[[ True  True  True  True]\n",
      " [ True  True  True  True]\n",
      " [ True  True  True  True]\n",
      " [ True  True  True  True]\n",
      " [ True  True  True  True]]\n",
      "[[ nan  nan  nan  nan]\n",
      " [ nan  nan  nan  nan]\n",
      " [ nan  nan  nan  nan]\n",
      " [ nan  nan  nan  nan]\n",
      " [ nan  nan  nan  nan]]\n"
     ]
    }
   ],
   "source": [
    "#处理缺失值\n",
    "from sklearn import datasets\n",
    "import numpy as np\n",
    "iris = datasets.load_iris()\n",
    "iris_X = iris.data\n",
    "masking_array = np.random.binomial(1, 1,iris_X.shape)\n",
    "print masking_array[:5]\n",
    "b = masking_array.astype(bool)\n",
    "print b[:5]\n",
    "iris_X[b] = np.nan\n",
    "print iris_X[:5]\n",
    "iris_X[np.isnan(iris_X)] = -1\n",
    "impute = preprocessing.Imputer(strategy='median')\n",
    "iris_X_prime = impute.fit_transform(iris_X)"
   ]
  },
  {
   "cell_type": "code",
   "execution_count": 160,
   "metadata": {
    "collapsed": false
   },
   "outputs": [
    {
     "data": {
      "text/plain": [
       "array([[  1.52425682e+00,  -1.37014973e+00,   1.26549389e+00,\n",
       "          1.35851243e+00],\n",
       "       [ -2.29363210e+00,   1.85897975e+00,  -1.43282760e+00,\n",
       "         -2.50113834e+00],\n",
       "       [  7.44190516e-01,  -8.59413776e-01,   1.64567447e+00,\n",
       "          6.76764428e-01],\n",
       "       [  6.37195079e-01,   0.00000000e+00,   5.57623380e-01,\n",
       "         -1.76319458e-17]])"
      ]
     },
     "execution_count": 160,
     "metadata": {},
     "output_type": "execute_result"
    }
   ],
   "source": [
    "from sklearn import datasets\n",
    "import numpy as np\n",
    "mat = datasets.make_spd_matrix(10)\n",
    "masking_array = np.random.binomial(1, .1, mat.shape).astype(bool)\n",
    "mat[masking_array] = np.nan\n",
    "mat[:4, :4]\n",
    "from sklearn import preprocessing\n",
    "impute = preprocessing.Imputer()\n",
    "scaler = preprocessing.StandardScaler()\n",
    "mat_imputed = impute.fit_transform(mat)\n",
    "mat_imputed[:4, :4]\n",
    "mat_imp_and_scaled = scaler.fit_transform(mat_imputed)\n",
    "mat_imp_and_scaled[:4, :4]"
   ]
  },
  {
   "cell_type": "code",
   "execution_count": 161,
   "metadata": {
    "collapsed": false
   },
   "outputs": [
    {
     "data": {
      "text/plain": [
       "array([[  1.52425682e+00,  -1.37014973e+00,   1.26549389e+00,\n",
       "          1.35851243e+00],\n",
       "       [ -2.29363210e+00,   1.85897975e+00,  -1.43282760e+00,\n",
       "         -2.50113834e+00],\n",
       "       [  7.44190516e-01,  -8.59413776e-01,   1.64567447e+00,\n",
       "          6.76764428e-01],\n",
       "       [  6.37195079e-01,   0.00000000e+00,   5.57623380e-01,\n",
       "         -1.76319458e-17]])"
      ]
     },
     "execution_count": 161,
     "metadata": {},
     "output_type": "execute_result"
    }
   ],
   "source": [
    "from sklearn import pipeline\n",
    "pipe = pipeline.Pipeline([('impute', impute), ('scaler', scaler)])\n",
    "new_mat = pipe.fit_transform(mat)\n",
    "new_mat[:4, :4]"
   ]
  },
  {
   "cell_type": "code",
   "execution_count": 162,
   "metadata": {
    "collapsed": false
   },
   "outputs": [
    {
     "data": {
      "text/plain": [
       "True"
      ]
     },
     "execution_count": 162,
     "metadata": {},
     "output_type": "execute_result"
    }
   ],
   "source": [
    "np.array_equal(new_mat, mat_imp_and_scaled)"
   ]
  },
  {
   "cell_type": "code",
   "execution_count": 171,
   "metadata": {
    "collapsed": false
   },
   "outputs": [
    {
     "data": {
      "image/png": "[encoded data removed]",
      "text/plain": [
       "<matplotlib.figure.Figure at 0xdf38b00>"
      ]
     },
     "metadata": {},
     "output_type": "display_data"
    },
    {
     "data": {
      "text/plain": [
       "(150L, 3L)"
      ]
     },
     "execution_count": 171,
     "metadata": {},
     "output_type": "execute_result"
    }
   ],
   "source": [
    "#主成分分析\n",
    "from sklearn import datasets\n",
    "import numpy as np\n",
    "iris = datasets.load_iris()\n",
    "iris_X = iris.data\n",
    "iris_X.shape\n",
    "from sklearn import decomposition\n",
    "#降到2维\n",
    "pca = decomposition.PCA(n_components=2)\n",
    "iris_X_prime = pca.fit_transform(iris_X)\n",
    "iris_X_prime.shape\n",
    "from matplotlib import pyplot as plt\n",
    "f = plt.figure(figsize=(5, 5))\n",
    "ax = f.add_subplot(111)\n",
    "ax.scatter(iris_X_prime[:,0], iris_X_prime[:, 1], c=iris.target)\n",
    "ax.set_title(\"PCA 2 Components\")\n",
    "plt.show()\n",
    "#显示降维后的特征保留了原始特征百分之多少的信息\n",
    "pca.explained_variance_ratio_.sum()\n",
    "#也可以在参数中指定降维后的特征保留原始特征百分之多少的信息 0.98 表示至少保留百分之98的信息\n",
    "pca = decomposition.PCA(n_components=.98)\n",
    "iris_X_prime = pca.fit_transform(iris_X)\n",
    "pca.explained_variance_ratio_.sum()\n",
    "iris_X_prime.shape"
   ]
  },
  {
   "cell_type": "code",
   "execution_count": 5,
   "metadata": {
    "collapsed": false
   },
   "outputs": [
    {
     "data": {
      "image/png": "[encoded data removed]",
      "text/plain": [
       "<matplotlib.figure.Figure at 0x8c31940>"
      ]
     },
     "metadata": {},
     "output_type": "display_data"
    }
   ],
   "source": [
    "#截断奇异值分解 和一般的SVD相比，TSVD可以指定维度 比如SVD 如果原始矩阵是n*n的 那么分解后还是n*n  但是TSVD可以分解成指定维度，以实现降维\n",
    "from sklearn.datasets import load_iris\n",
    "iris = load_iris()\n",
    "iris_data = iris.data\n",
    "from sklearn.decomposition import TruncatedSVD\n",
    "#指定维数为2\n",
    "svd = TruncatedSVD(2)\n",
    "iris_transformed = svd.fit_transform(iris_data)\n",
    "from matplotlib import pyplot as plt\n",
    "f = plt.figure(figsize=(5,5))\n",
    "ax = f.add_subplot(111)\n",
    "ax.scatter(iris_transformed[:,0], iris_transformed[:, 1], c=iris.target)\n",
    "ax.set_title(\"Truncated SVD, 2 Components\")\n",
    "plt.show()"
   ]
  },
  {
   "cell_type": "code",
   "execution_count": 34,
   "metadata": {
    "collapsed": false
   },
   "outputs": [
    {
     "data": {
      "text/plain": [
       "((3L, 2L), (2L,), (2L, 2L))"
      ]
     },
     "execution_count": 34,
     "metadata": {},
     "output_type": "execute_result"
    }
   ],
   "source": [
    "import numpy as np\n",
    "from scipy.linalg import svd\n",
    "D = np.array([[1, 2], [1, 3], [1, 4]])\n",
    "U, S, V = svd(D, full_matrices=False)\n",
    "U.shape, S.shape, V.shape"
   ]
  },
  {
   "cell_type": "code",
   "execution_count": 91,
   "metadata": {
    "collapsed": false
   },
   "outputs": [
    {
     "name": "stdout",
     "output_type": "stream",
     "text": [
      "\n",
      "[ 0.69831473  0.97528833  0.75918416  0.54856314  0.20618025  0.98487888\n",
      "  0.15876427  0.00627885  0.21212961  0.2907377 ]\n",
      "[0.98487888152706271, 0.97528832629805828, 0.75918415515953575, 0.69831473372083486, 0.54856314286024399, 0.29073770392742049, 0.21212961203052272, 0.20618025157819797, 0.1587642697999162, 0.0062788513707643379]\n",
      "int32\n"
     ]
    }
   ],
   "source": [
    "z = np.arange(1,101)\n",
    "a = np.arange(9).reshape(3,3)  \n",
    "np.dot(np.ones((5,3)),np.ones((3,2)))\n",
    "b = np.random.random((5,5))  \n",
    "# print str(b.max()) +' '+ str(b.min())\n",
    "c = (b - b.min())/(b.max() - b.min())\n",
    "#linspace(start, stop, num=50, endpoint=True, retstep=False)\n",
    "#生成0~10之间均匀分布的11个数，包括0和1。\n",
    "#endpoint=False,则10不包括在里面。\n",
    "#retstep=False，会同时返回均匀区间中每两个数的间隔。\n",
    "d = np.linspace(0,10,11,endpoint=True, retstep=True)\n",
    "print \n",
    "e = np.random.random(10)\n",
    "print e\n",
    "f = sorted(e,reverse=True)\n",
    "print f\n",
    "#randint(min,max,num)生成大小为num的array，数值范围min～max\n",
    "A = np.random.randint(0,2,5)  \n",
    "B = np.random.randint(0,2,5)  \n",
    "#判断两个array在误差范围内是否相等。函数原型allclose(a, b, rtol=1e-05, atol=1e-08)，若absolute(a - b) <= (atol + rtol * absolute(b))则相等\n",
    "equal = np.allclose(A,B)  \n",
    "print A.dtype"
   ]
  },
  {
   "cell_type": "code",
   "execution_count": 118,
   "metadata": {
    "collapsed": false
   },
   "outputs": [
    {
     "data": {
      "text/plain": [
       "array([[[0, 0, 0, 0],\n",
       "        [0, 0, 0, 0],\n",
       "        [0, 0, 0, 0]],\n",
       "\n",
       "       [[0, 0, 0, 0],\n",
       "        [0, 0, 0, 0],\n",
       "        [0, 0, 0, 0]]], dtype=int64)"
      ]
     },
     "execution_count": 118,
     "metadata": {},
     "output_type": "execute_result"
    }
   ],
   "source": [
    "a = np.arange(1,10)\n",
    "b = a.shape[0]\n",
    "y = np.zeros((2,3,4)).astype(np.int64)\n",
    "y"
   ]
  },
  {
   "cell_type": "code",
   "execution_count": 60,
   "metadata": {
    "collapsed": false
   },
   "outputs": [
    {
     "name": "stdout",
     "output_type": "stream",
     "text": [
      "[[1 0 2 3]\n",
      " [3 2 0 1]]\n",
      "[[1 0 2 3]\n",
      " [2 3 1 0]]\n",
      "[[False False False False]\n",
      " [False False False False]]\n",
      "[[False  True False False]\n",
      " [False  True False False]]\n"
     ]
    }
   ],
   "source": [
    "import numpy as np\n",
    "a = np.array([[1,0,2,3],[3,2,0,1]])\n",
    "mask = np.zeros(a.shape, dtype=bool)\n",
    "b = np.argsort(a,kind=\"mergesort\")[-2:]\n",
    "print a\n",
    "print b\n",
    "print mask\n",
    "mask[[(0,1),(1,1)]] = 1\n",
    "print mask"
   ]
  },
  {
   "cell_type": "code",
   "execution_count": 53,
   "metadata": {
    "collapsed": false
   },
   "outputs": [
    {
     "name": "stdout",
     "output_type": "stream",
     "text": [
      "[3 2]\n",
      "[False False False False]\n",
      "[False False  True  True]\n"
     ]
    }
   ],
   "source": [
    "import numpy as np\n",
    "a = np.array([1,0,3,2])\n",
    "mask = np.zeros(a.shape, dtype=bool)\n",
    "b = np.argsort(a,kind=\"mergesort\")[-2:]\n",
    "print b\n",
    "print mask\n",
    "mask[b] = 1\n",
    "print mask"
   ]
  },
  {
   "cell_type": "code",
   "execution_count": 63,
   "metadata": {
    "collapsed": false
   },
   "outputs": [
    {
     "name": "stderr",
     "output_type": "stream",
     "text": [
      "g:\\python27\\lib\\site-packages\\sklearn\\cross_validation.py:44: DeprecationWarning: This module was deprecated in version 0.18 in favor of the model_selection module into which all the refactored classes and functions are moved. Also note that the interface of the new CV iterators are different from that of this module. This module will be removed in 0.20.\n",
      "  \"This module will be removed in 0.20.\", DeprecationWarning)\n"
     ]
    },
    {
     "ename": "IOError",
     "evalue": "File E:\\data\\bigdata\\adult\\adult.data does not exist",
     "output_type": "error",
     "traceback": [
      "\u001b[1;31m---------------------------------------------------------------------------\u001b[0m",
      "\u001b[1;31mIOError\u001b[0m                                   Traceback (most recent call last)",
      "\u001b[1;32m<ipython-input-63-1edce0a650b4>\u001b[0m in \u001b[0;36m<module>\u001b[1;34m()\u001b[0m\n\u001b[0;32m     26\u001b[0m                                                         \u001b[1;34m\"Relationship\"\u001b[0m\u001b[1;33m,\u001b[0m \u001b[1;34m\"Race\"\u001b[0m\u001b[1;33m,\u001b[0m \u001b[1;34m\"Sex\"\u001b[0m\u001b[1;33m,\u001b[0m \u001b[1;34m\"Capital-gain\"\u001b[0m\u001b[1;33m,\u001b[0m\u001b[1;33m\u001b[0m\u001b[0m\n\u001b[0;32m     27\u001b[0m                                                         \u001b[1;34m\"Capital-loss\"\u001b[0m\u001b[1;33m,\u001b[0m \u001b[1;34m\"Hours-per-week\"\u001b[0m\u001b[1;33m,\u001b[0m \u001b[1;34m\"Native-Country\"\u001b[0m\u001b[1;33m,\u001b[0m\u001b[1;33m\u001b[0m\u001b[0m\n\u001b[1;32m---> 28\u001b[1;33m                                                         \"Earnings-Raw\"])\n\u001b[0m\u001b[0;32m     29\u001b[0m \u001b[1;33m\u001b[0m\u001b[0m\n\u001b[0;32m     30\u001b[0m \u001b[1;31m# 2. 数据清理\u001b[0m\u001b[1;33m\u001b[0m\u001b[1;33m\u001b[0m\u001b[0m\n",
      "\u001b[1;32mg:\\python27\\lib\\site-packages\\pandas\\io\\parsers.pyc\u001b[0m in \u001b[0;36mparser_f\u001b[1;34m(filepath_or_buffer, sep, delimiter, header, names, index_col, usecols, squeeze, prefix, mangle_dupe_cols, dtype, engine, converters, true_values, false_values, skipinitialspace, skiprows, skipfooter, nrows, na_values, keep_default_na, na_filter, verbose, skip_blank_lines, parse_dates, infer_datetime_format, keep_date_col, date_parser, dayfirst, iterator, chunksize, compression, thousands, decimal, lineterminator, quotechar, quoting, escapechar, comment, encoding, dialect, tupleize_cols, error_bad_lines, warn_bad_lines, skip_footer, doublequote, delim_whitespace, as_recarray, compact_ints, use_unsigned, low_memory, buffer_lines, memory_map, float_precision)\u001b[0m\n\u001b[0;32m    527\u001b[0m                     skip_blank_lines=skip_blank_lines)\n\u001b[0;32m    528\u001b[0m \u001b[1;33m\u001b[0m\u001b[0m\n\u001b[1;32m--> 529\u001b[1;33m         \u001b[1;32mreturn\u001b[0m \u001b[0m_read\u001b[0m\u001b[1;33m(\u001b[0m\u001b[0mfilepath_or_buffer\u001b[0m\u001b[1;33m,\u001b[0m \u001b[0mkwds\u001b[0m\u001b[1;33m)\u001b[0m\u001b[1;33m\u001b[0m\u001b[0m\n\u001b[0m\u001b[0;32m    530\u001b[0m \u001b[1;33m\u001b[0m\u001b[0m\n\u001b[0;32m    531\u001b[0m     \u001b[0mparser_f\u001b[0m\u001b[1;33m.\u001b[0m\u001b[0m__name__\u001b[0m \u001b[1;33m=\u001b[0m \u001b[0mname\u001b[0m\u001b[1;33m\u001b[0m\u001b[0m\n",
      "\u001b[1;32mg:\\python27\\lib\\site-packages\\pandas\\io\\parsers.pyc\u001b[0m in \u001b[0;36m_read\u001b[1;34m(filepath_or_buffer, kwds)\u001b[0m\n\u001b[0;32m    293\u001b[0m \u001b[1;33m\u001b[0m\u001b[0m\n\u001b[0;32m    294\u001b[0m     \u001b[1;31m# Create the parser.\u001b[0m\u001b[1;33m\u001b[0m\u001b[1;33m\u001b[0m\u001b[0m\n\u001b[1;32m--> 295\u001b[1;33m     \u001b[0mparser\u001b[0m \u001b[1;33m=\u001b[0m \u001b[0mTextFileReader\u001b[0m\u001b[1;33m(\u001b[0m\u001b[0mfilepath_or_buffer\u001b[0m\u001b[1;33m,\u001b[0m \u001b[1;33m**\u001b[0m\u001b[0mkwds\u001b[0m\u001b[1;33m)\u001b[0m\u001b[1;33m\u001b[0m\u001b[0m\n\u001b[0m\u001b[0;32m    296\u001b[0m \u001b[1;33m\u001b[0m\u001b[0m\n\u001b[0;32m    297\u001b[0m     \u001b[1;32mif\u001b[0m \u001b[1;33m(\u001b[0m\u001b[0mnrows\u001b[0m \u001b[1;32mis\u001b[0m \u001b[1;32mnot\u001b[0m \u001b[0mNone\u001b[0m\u001b[1;33m)\u001b[0m \u001b[1;32mand\u001b[0m \u001b[1;33m(\u001b[0m\u001b[0mchunksize\u001b[0m \u001b[1;32mis\u001b[0m \u001b[1;32mnot\u001b[0m \u001b[0mNone\u001b[0m\u001b[1;33m)\u001b[0m\u001b[1;33m:\u001b[0m\u001b[1;33m\u001b[0m\u001b[0m\n",
      "\u001b[1;32mg:\\python27\\lib\\site-packages\\pandas\\io\\parsers.pyc\u001b[0m in \u001b[0;36m__init__\u001b[1;34m(self, f, engine, **kwds)\u001b[0m\n\u001b[0;32m    610\u001b[0m             \u001b[0mself\u001b[0m\u001b[1;33m.\u001b[0m\u001b[0moptions\u001b[0m\u001b[1;33m[\u001b[0m\u001b[1;34m'has_index_names'\u001b[0m\u001b[1;33m]\u001b[0m \u001b[1;33m=\u001b[0m \u001b[0mkwds\u001b[0m\u001b[1;33m[\u001b[0m\u001b[1;34m'has_index_names'\u001b[0m\u001b[1;33m]\u001b[0m\u001b[1;33m\u001b[0m\u001b[0m\n\u001b[0;32m    611\u001b[0m \u001b[1;33m\u001b[0m\u001b[0m\n\u001b[1;32m--> 612\u001b[1;33m         \u001b[0mself\u001b[0m\u001b[1;33m.\u001b[0m\u001b[0m_make_engine\u001b[0m\u001b[1;33m(\u001b[0m\u001b[0mself\u001b[0m\u001b[1;33m.\u001b[0m\u001b[0mengine\u001b[0m\u001b[1;33m)\u001b[0m\u001b[1;33m\u001b[0m\u001b[0m\n\u001b[0m\u001b[0;32m    613\u001b[0m \u001b[1;33m\u001b[0m\u001b[0m\n\u001b[0;32m    614\u001b[0m     \u001b[1;32mdef\u001b[0m \u001b[0m_get_options_with_defaults\u001b[0m\u001b[1;33m(\u001b[0m\u001b[0mself\u001b[0m\u001b[1;33m,\u001b[0m \u001b[0mengine\u001b[0m\u001b[1;33m)\u001b[0m\u001b[1;33m:\u001b[0m\u001b[1;33m\u001b[0m\u001b[0m\n",
      "\u001b[1;32mg:\\python27\\lib\\site-packages\\pandas\\io\\parsers.pyc\u001b[0m in \u001b[0;36m_make_engine\u001b[1;34m(self, engine)\u001b[0m\n\u001b[0;32m    745\u001b[0m     \u001b[1;32mdef\u001b[0m \u001b[0m_make_engine\u001b[0m\u001b[1;33m(\u001b[0m\u001b[0mself\u001b[0m\u001b[1;33m,\u001b[0m \u001b[0mengine\u001b[0m\u001b[1;33m=\u001b[0m\u001b[1;34m'c'\u001b[0m\u001b[1;33m)\u001b[0m\u001b[1;33m:\u001b[0m\u001b[1;33m\u001b[0m\u001b[0m\n\u001b[0;32m    746\u001b[0m         \u001b[1;32mif\u001b[0m \u001b[0mengine\u001b[0m \u001b[1;33m==\u001b[0m \u001b[1;34m'c'\u001b[0m\u001b[1;33m:\u001b[0m\u001b[1;33m\u001b[0m\u001b[0m\n\u001b[1;32m--> 747\u001b[1;33m             \u001b[0mself\u001b[0m\u001b[1;33m.\u001b[0m\u001b[0m_engine\u001b[0m \u001b[1;33m=\u001b[0m \u001b[0mCParserWrapper\u001b[0m\u001b[1;33m(\u001b[0m\u001b[0mself\u001b[0m\u001b[1;33m.\u001b[0m\u001b[0mf\u001b[0m\u001b[1;33m,\u001b[0m \u001b[1;33m**\u001b[0m\u001b[0mself\u001b[0m\u001b[1;33m.\u001b[0m\u001b[0moptions\u001b[0m\u001b[1;33m)\u001b[0m\u001b[1;33m\u001b[0m\u001b[0m\n\u001b[0m\u001b[0;32m    748\u001b[0m         \u001b[1;32melse\u001b[0m\u001b[1;33m:\u001b[0m\u001b[1;33m\u001b[0m\u001b[0m\n\u001b[0;32m    749\u001b[0m             \u001b[1;32mif\u001b[0m \u001b[0mengine\u001b[0m \u001b[1;33m==\u001b[0m \u001b[1;34m'python'\u001b[0m\u001b[1;33m:\u001b[0m\u001b[1;33m\u001b[0m\u001b[0m\n",
      "\u001b[1;32mg:\\python27\\lib\\site-packages\\pandas\\io\\parsers.pyc\u001b[0m in \u001b[0;36m__init__\u001b[1;34m(self, src, **kwds)\u001b[0m\n\u001b[0;32m   1117\u001b[0m         \u001b[0mkwds\u001b[0m\u001b[1;33m[\u001b[0m\u001b[1;34m'allow_leading_cols'\u001b[0m\u001b[1;33m]\u001b[0m \u001b[1;33m=\u001b[0m \u001b[0mself\u001b[0m\u001b[1;33m.\u001b[0m\u001b[0mindex_col\u001b[0m \u001b[1;32mis\u001b[0m \u001b[1;32mnot\u001b[0m \u001b[0mFalse\u001b[0m\u001b[1;33m\u001b[0m\u001b[0m\n\u001b[0;32m   1118\u001b[0m \u001b[1;33m\u001b[0m\u001b[0m\n\u001b[1;32m-> 1119\u001b[1;33m         \u001b[0mself\u001b[0m\u001b[1;33m.\u001b[0m\u001b[0m_reader\u001b[0m \u001b[1;33m=\u001b[0m \u001b[0m_parser\u001b[0m\u001b[1;33m.\u001b[0m\u001b[0mTextReader\u001b[0m\u001b[1;33m(\u001b[0m\u001b[0msrc\u001b[0m\u001b[1;33m,\u001b[0m \u001b[1;33m**\u001b[0m\u001b[0mkwds\u001b[0m\u001b[1;33m)\u001b[0m\u001b[1;33m\u001b[0m\u001b[0m\n\u001b[0m\u001b[0;32m   1120\u001b[0m \u001b[1;33m\u001b[0m\u001b[0m\n\u001b[0;32m   1121\u001b[0m         \u001b[1;31m# XXX\u001b[0m\u001b[1;33m\u001b[0m\u001b[1;33m\u001b[0m\u001b[0m\n",
      "\u001b[1;32mpandas\\parser.pyx\u001b[0m in \u001b[0;36mpandas.parser.TextReader.__cinit__ (pandas\\parser.c:3246)\u001b[1;34m()\u001b[0m\n",
      "\u001b[1;32mpandas\\parser.pyx\u001b[0m in \u001b[0;36mpandas.parser.TextReader._setup_parser_source (pandas\\parser.c:6111)\u001b[1;34m()\u001b[0m\n",
      "\u001b[1;31mIOError\u001b[0m: File E:\\data\\bigdata\\adult\\adult.data does not exist"
     ]
    }
   ],
   "source": [
    "import numpy as np\n",
    "import pandas as pd\n",
    "from scipy.stats import pearsonr\n",
    "from sklearn.feature_selection import VarianceThreshold\n",
    "from sklearn.feature_selection import SelectKBest\n",
    "from sklearn.feature_selection import chi2\n",
    "from sklearn.tree import DecisionTreeClassifier\n",
    "from sklearn.cross_validation import cross_val_score\n",
    "from sklearn.base import TransformerMixin\n",
    "from sklearn.utils import as_float_array\n",
    "from sklearn.pipeline import Pipeline\n",
    "\n",
    "# ---------------------------------------\n",
    "# 用转换器抽取特征\n",
    "# ----------------------------------------\n",
    "\n",
    "# 模型就是用来简化世界，特征抽取也是一样。\n",
    "# 降低复杂性有好处，但也有不足，简化会忽略很多细节。\n",
    "\n",
    "# 这里的例子用adult数据集，预测一个人是否年收入多于五万美元\n",
    "\n",
    "# 1. 载入数据\n",
    "adult_filename = r'E:\\data\\bigdata\\adult\\adult.data'\n",
    "adult = pd.read_csv(adult_filename, header=None, names=[\"Age\", \"Work-Class\", \"fnlwgt\", \"Education\",\n",
    "                                                        \"Education-Num\", \"Marital-Status\", \"Occupation\",\n",
    "                                                        \"Relationship\", \"Race\", \"Sex\", \"Capital-gain\",\n",
    "                                                        \"Capital-loss\", \"Hours-per-week\", \"Native-Country\",\n",
    "                                                        \"Earnings-Raw\"])\n",
    "\n",
    "# 2. 数据清理\n",
    "# 删除缺失数据\n",
    "adult.dropna(how='all', inplace=True)\n",
    "\n",
    "# 3. 探索性数据分析\n",
    "# 描述统计\n",
    "print(adult[\"Hours-per-week\"].describe())\n",
    "\n",
    "print(adult[\"Work-Class\"].unique())\n",
    "\n",
    "# 3'. 演示scikit-learn特征选择的方式\n",
    "X = np.arange(30).reshape((10, 3))\n",
    "X[:,1] = 1\n",
    "# 注意：这时X矩阵中第二列全为1\n",
    "\n",
    "# 利用VarianceThreshold()来删除方差低于阈值的变量\n",
    "vt = VarianceThreshold()\n",
    "Xt = vt.fit_transform(X)\n",
    "# 这个时候，第二列就被删除了，因为它的方差为零\n",
    "print(vt.variances_)\n",
    "\n",
    "# 回到adult的例子，选择最佳特征\n",
    "X = adult[[\"Age\", \"Education-Num\", \"Capital-gain\", \"Capital-loss\", \"Hours-per-week\"]].values\n",
    "y = (adult[\"Earnings-Raw\"] == ' >50K').values\n",
    "\n",
    "# 构建选择器\n",
    "transformer = SelectKBest(score_func=chi2, k=3)\n",
    "Xt_chi2 = transformer.fit_transform(X, y)\n",
    "\n",
    "# 结论：相关性最好的分别是第一、三、四列\n",
    "print(transformer.scores_)\n",
    "\n",
    "# 还可以利用皮尔逊(Pearson)相关系数进行选择\n",
    "# 这里利用了SciPy库的pearsonr()函数\n",
    "\n",
    "# 定义函数\n",
    "def multivariate_pearsonr(X, y):\n",
    "    scores, pvalues = [], []\n",
    "    for column in range(X.shape[1]):\n",
    "        cur_score, cur_p = pearsonr(X[:,column], y)\n",
    "        scores.append(abs(cur_score))\n",
    "        pvalues.append(cur_p)\n",
    "    return (np.array(scores), np.array(pvalues))\n",
    "\n",
    "transformer = SelectKBest(score_func=multivariate_pearsonr, k=3)\n",
    "Xt_pearson = transformer.fit_transform(X, y)\n",
    "print(transformer.scores_)\n",
    "\n",
    "# 利用CART分类器，查看特征选择的准确率\n",
    "clf = DecisionTreeClassifier(random_state=14)\n",
    "scores_chi2 = cross_val_score(clf, Xt_chi2, y, scoring='accuracy')\n",
    "scores_pearson = cross_val_score(clf, Xt_pearson, y, scoring='accuracy')\n",
    "\n",
    "print(\"Chi2 performance: {0:.3f}\".format(scores_chi2.mean()))\n",
    "print(\"Pearson performance: {0:.3f}\".format(scores_pearson.mean()))\n",
    "\n",
    "# 创建自己的转换器\n",
    "# 转换器的API很简单。它接受一种特定格式的数据，输出一种格式的数据。\n",
    "\n",
    "# 转换器有两个关键函数\n",
    "# - fit(): 接受训练数据，设置内部参数\n",
    "# - transform(): 转换过程。接受训练数据集或相同格式的新数据集。\n",
    "\n",
    "# 转换器范例\n",
    "class MeanDiscrete(TransformerMixin):\n",
    "    def fit(self, X, y=None):\n",
    "        X = as_float_array(X)\n",
    "        self.mean = np.mean(X, axis=0)\n",
    "        return self\n",
    "\n",
    "    def transform(self, X):\n",
    "        X = as_float_array(X)\n",
    "        assert X.shape[1] == self.mean.shape[0]\n",
    "        return X > self.mean\n",
    "\n",
    "pipeline = Pipeline([('mean_discrete', MeanDiscrete()),\n",
    "                     ('classifier', DecisionTreeClassifier(random_state=14))])\n",
    "scores_mean_discrete = cross_val_score(pipeline, X, y, scoring='accuracy')\n",
    "print(\"Mean Discrete performance: {0:.3f}\".format(scores_mean_discrete.mean()))"
   ]
  },
  {
   "cell_type": "code",
   "execution_count": null,
   "metadata": {
    "collapsed": true
   },
   "outputs": [],
   "source": []
  }
 ],
 "metadata": {
  "kernelspec": {
   "display_name": "Python 2",
   "language": "python",
   "name": "python2"
  },
  "language_info": {
   "codemirror_mode": {
    "name": "ipython",
    "version": 2
   },
   "file_extension": ".py",
   "mimetype": "text/x-python",
   "name": "python",
   "nbconvert_exporter": "python",
   "pygments_lexer": "ipython2",
   "version": "2.7.13"
  }
 },
 "nbformat": 4,
 "nbformat_minor": 2
}
